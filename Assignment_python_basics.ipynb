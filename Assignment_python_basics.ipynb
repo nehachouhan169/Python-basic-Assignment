{
  "nbformat": 4,
  "nbformat_minor": 0,
  "metadata": {
    "colab": {
      "provenance": []
    },
    "kernelspec": {
      "name": "python3",
      "display_name": "Python 3"
    },
    "language_info": {
      "name": "python"
    }
  },
  "cells": [
    {
      "cell_type": "markdown",
      "source": [
        "# Python Basics Questions/Answers\n"
      ],
      "metadata": {
        "id": "TFo34RyHjTrR"
      }
    },
    {
      "cell_type": "markdown",
      "source": [
        "### Theory Q/A"
      ],
      "metadata": {
        "id": "rNzbaSMP1Mp_"
      }
    },
    {
      "cell_type": "markdown",
      "source": [
        "### 1) What is Python, and why is it popular?\n",
        "#### > Python is a high-level interpreted programming language and its simple and easy to code. Python is popular because its Easy to learn and use, its an open source software,its efficient and portable.\n",
        "  "
      ],
      "metadata": {
        "id": "HTF6jSNOjiDl"
      }
    },
    {
      "cell_type": "markdown",
      "source": [
        "### 2) What is an interpreter in Python?\n",
        "#### > An interpreter in Python is a program that reads and runs python code line by line and translates it into machine language and executes it."
      ],
      "metadata": {
        "id": "PmD6z89-lSs2"
      }
    },
    {
      "cell_type": "markdown",
      "source": [
        "### 3) What are pre-defined keywords in Python?\n",
        "#### > Pre-defined keywords in Python are special words that have fixed meaning. They are built-in keywords which means they are always available to use.There are more than 30+ keywords."
      ],
      "metadata": {
        "id": "rfarYkekmHYC"
      }
    },
    {
      "cell_type": "markdown",
      "source": [
        "### 4) Can keywords be used as variable names?\n",
        "#### >No, keywords cannot be used as variable names in python because keywords have special meanings using them as variable names would cause an error.\n",
        "\n"
      ],
      "metadata": {
        "id": "2oqoY_pWm637"
      }
    },
    {
      "cell_type": "markdown",
      "source": [
        "### 5) What is mutability in Python?\n",
        "#### > Mutability in python refers to a value that can be changed after it is created. Some types of mutable objects are lists,dict,set.\n",
        "\n"
      ],
      "metadata": {
        "id": "4zjhJ9b4np5V"
      }
    },
    {
      "cell_type": "markdown",
      "source": [
        "### 6) Why are lists mutable, but tuples are immutable?\n",
        "#### > Lists are mutable because the values inside any item can be changed, where as Tuples are immutable because values inside any item cannot be changed."
      ],
      "metadata": {
        "id": "YoIScmMTocLA"
      }
    },
    {
      "cell_type": "markdown",
      "source": [
        "### 7) What is the difference between “==” and “is” operators in Python?\n",
        "#### > \"==\" operator compares the values of two objects. It checks if the value of two variables is the same.\n",
        "#### > \"is\" operator checks if two variables refer to the exact same object in the memory.\n",
        "\n",
        "\n"
      ],
      "metadata": {
        "id": "FfJcUpi1pGfl"
      }
    },
    {
      "cell_type": "markdown",
      "source": [
        "### 8) What are logical operators in Python?\n",
        "#### > Logical operators in Python are used to combine conditional statements and perform logical operations on Boolean values such as True and False. The logical operators are and,or,not."
      ],
      "metadata": {
        "id": "NU-Fcxy0qwNn"
      }
    },
    {
      "cell_type": "markdown",
      "source": [
        "### 9) What is type casting in Python?\n",
        "#### > Type casting in Python means converting a value from one data type to another data type."
      ],
      "metadata": {
        "id": "gtFvrUkQrlu8"
      }
    },
    {
      "cell_type": "markdown",
      "source": [
        "### 10) What is the difference between implicit and explicit type casting?\n",
        "#### > Implicit Type Casting in python means automatically converting one data type to another data type.\n",
        "#### > Explicit Type Casting in python means manually converting data from one type to another using functions like int(), str(), float()."
      ],
      "metadata": {
        "id": "ZoEacaglsIzj"
      }
    },
    {
      "cell_type": "markdown",
      "source": [
        "### 11) What is the purpose of conditional statements in Python?\n",
        "#### > Conditional statements in Python are used to make decisions in a program. The purpose of this is to allow a certain code to run only if a specific condition is true or else the condition is false.\n"
      ],
      "metadata": {
        "id": "op5sQ0zZtnE4"
      }
    },
    {
      "cell_type": "markdown",
      "source": [
        "### 12) How does the elif statement work?\n",
        "#### > elif checks another condition if the first one is false. It helps to make multiple choices in your program.\n",
        "#### Given a condition,\n",
        "If its True, it runs that code and skips the rest.\n",
        "\n",
        "If its False, it checks the elif condition next.\n",
        "\n",
        "If its True, it runs that code.\n",
        "\n",
        "We can have many elif statements.\n",
        "\n",
        "If none are True, it runs the else part.\n",
        "\n"
      ],
      "metadata": {
        "id": "oTaw4fnTuqiD"
      }
    },
    {
      "cell_type": "markdown",
      "source": [
        "### 13) What is the difference between for and while loops?\n",
        "#### > For loop runs a block of code  for number of times.\n",
        "#### >  While loop runs a block of code as long as a condition is true."
      ],
      "metadata": {
        "id": "31N8COn6vmvS"
      }
    },
    {
      "cell_type": "markdown",
      "source": [
        "### 14) Describe a scenario where a while loop is more suitable than a for loop.\n",
        "#### > Scenario for a while loop is more suitable than for loop is asking a question until the answer is correct.\n",
        "#### > Other scenario is asking a user to enter a password until they get it right.\n",
        "\n",
        "\n"
      ],
      "metadata": {
        "id": "x2B4CkYCwLXe"
      }
    },
    {
      "cell_type": "markdown",
      "source": [
        "### Practical Q/A"
      ],
      "metadata": {
        "id": "Li9bCfGk1u6z"
      }
    },
    {
      "cell_type": "markdown",
      "source": [
        "### 1) Write a Python program to print \"Hello, World!\""
      ],
      "metadata": {
        "id": "EDuLCm6P15TC"
      }
    },
    {
      "cell_type": "code",
      "source": [
        "print(\"Hello, World!\")"
      ],
      "metadata": {
        "colab": {
          "base_uri": "https://localhost:8080/"
        },
        "id": "Lfe8nAZx2C3q",
        "outputId": "2433b0e6-2cdb-40bf-f3da-c0e977d6412f"
      },
      "execution_count": null,
      "outputs": [
        {
          "output_type": "stream",
          "name": "stdout",
          "text": [
            "Hello, World!\n"
          ]
        }
      ]
    },
    {
      "cell_type": "markdown",
      "source": [
        "### 2) Write a Python program that displays your name and age."
      ],
      "metadata": {
        "id": "PkFyAjwj2VOh"
      }
    },
    {
      "cell_type": "code",
      "source": [
        "name=\"Neha Chouhan\"\n",
        "age=24\n",
        "print(\"My name is\",name)\n",
        "print(\"My age is\",age)"
      ],
      "metadata": {
        "colab": {
          "base_uri": "https://localhost:8080/"
        },
        "id": "cEeGOMmd2b0m",
        "outputId": "58c747d9-7069-4c80-d900-0938307dde73"
      },
      "execution_count": null,
      "outputs": [
        {
          "output_type": "stream",
          "name": "stdout",
          "text": [
            "My name is Neha Chouhan\n",
            "My age is 24\n"
          ]
        }
      ]
    },
    {
      "cell_type": "markdown",
      "source": [
        "### 3) Write code to print all the pre-defined keywords in Python using the keyword library."
      ],
      "metadata": {
        "id": "hg63KThl3tzN"
      }
    },
    {
      "cell_type": "code",
      "source": [
        "import keyword\n",
        "print(keyword.kwlist)"
      ],
      "metadata": {
        "colab": {
          "base_uri": "https://localhost:8080/"
        },
        "id": "WFtz1l1k34TT",
        "outputId": "ed6c3f24-fda2-4a4a-ab8f-6785723f88e2"
      },
      "execution_count": null,
      "outputs": [
        {
          "output_type": "stream",
          "name": "stdout",
          "text": [
            "['False', 'None', 'True', 'and', 'as', 'assert', 'async', 'await', 'break', 'class', 'continue', 'def', 'del', 'elif', 'else', 'except', 'finally', 'for', 'from', 'global', 'if', 'import', 'in', 'is', 'lambda', 'nonlocal', 'not', 'or', 'pass', 'raise', 'return', 'try', 'while', 'with', 'yield']\n"
          ]
        }
      ]
    },
    {
      "cell_type": "markdown",
      "source": [
        "### 4) Write a program that checks if a given word is a Python keyword.\n"
      ],
      "metadata": {
        "id": "flthonpC4KQh"
      }
    },
    {
      "cell_type": "code",
      "source": [
        "import keyword\n",
        "word=input(\"Enter a word: \")\n",
        "if keyword.iskeyword(word):\n",
        "  print(word,\"is a python keyword\")\n",
        "else:\n",
        "  (word,\"is not a python keyword\")\n"
      ],
      "metadata": {
        "colab": {
          "base_uri": "https://localhost:8080/"
        },
        "id": "7ZvZQ_bJ4RvF",
        "outputId": "411c87c3-7a41-4ffe-9174-92fc7e56dfab"
      },
      "execution_count": null,
      "outputs": [
        {
          "output_type": "stream",
          "name": "stdout",
          "text": [
            "Enter a word: None\n",
            "None is a python keyword\n"
          ]
        }
      ]
    },
    {
      "cell_type": "markdown",
      "source": [
        "### 5)  Create a list and tuple in Python, and demonstrate how attempting to change an element works differently for each."
      ],
      "metadata": {
        "id": "1ruhcgzH5syf"
      }
    },
    {
      "cell_type": "code",
      "source": [
        "my_list = [1, 2, 3]\n",
        "print(\"List before change:\", my_list)\n",
        "my_list[2] = 4\n",
        "print(\"List after change:\", my_list)\n",
        "my_tuple = (1, 2, 3)\n",
        "print(\"Tuple before change:\", my_tuple)\n",
        "my_tuple[2] = 4\n",
        "print(\"Tuple after change:\", my_tuple)"
      ],
      "metadata": {
        "colab": {
          "base_uri": "https://localhost:8080/",
          "height": 245
        },
        "id": "rRBIgvkS5yq2",
        "outputId": "62c76ef6-d13f-41f6-e060-9c9cdcd26873"
      },
      "execution_count": 17,
      "outputs": [
        {
          "output_type": "stream",
          "name": "stdout",
          "text": [
            "List before change: [1, 2, 3]\n",
            "List after change: [1, 2, 4]\n",
            "Tuple before change: (1, 2, 3)\n"
          ]
        },
        {
          "output_type": "error",
          "ename": "TypeError",
          "evalue": "'tuple' object does not support item assignment",
          "traceback": [
            "\u001b[0;31m---------------------------------------------------------------------------\u001b[0m",
            "\u001b[0;31mTypeError\u001b[0m                                 Traceback (most recent call last)",
            "\u001b[0;32m/tmp/ipython-input-17-152292168.py\u001b[0m in \u001b[0;36m<cell line: 0>\u001b[0;34m()\u001b[0m\n\u001b[1;32m      5\u001b[0m \u001b[0mmy_tuple\u001b[0m \u001b[0;34m=\u001b[0m \u001b[0;34m(\u001b[0m\u001b[0;36m1\u001b[0m\u001b[0;34m,\u001b[0m \u001b[0;36m2\u001b[0m\u001b[0;34m,\u001b[0m \u001b[0;36m3\u001b[0m\u001b[0;34m)\u001b[0m\u001b[0;34m\u001b[0m\u001b[0;34m\u001b[0m\u001b[0m\n\u001b[1;32m      6\u001b[0m \u001b[0mprint\u001b[0m\u001b[0;34m(\u001b[0m\u001b[0;34m\"Tuple before change:\"\u001b[0m\u001b[0;34m,\u001b[0m \u001b[0mmy_tuple\u001b[0m\u001b[0;34m)\u001b[0m\u001b[0;34m\u001b[0m\u001b[0;34m\u001b[0m\u001b[0m\n\u001b[0;32m----> 7\u001b[0;31m \u001b[0mmy_tuple\u001b[0m\u001b[0;34m[\u001b[0m\u001b[0;36m2\u001b[0m\u001b[0;34m]\u001b[0m \u001b[0;34m=\u001b[0m \u001b[0;36m4\u001b[0m\u001b[0;34m\u001b[0m\u001b[0;34m\u001b[0m\u001b[0m\n\u001b[0m\u001b[1;32m      8\u001b[0m \u001b[0mprint\u001b[0m\u001b[0;34m(\u001b[0m\u001b[0;34m\"Tuple after change:\"\u001b[0m\u001b[0;34m,\u001b[0m \u001b[0mmy_tuple\u001b[0m\u001b[0;34m)\u001b[0m\u001b[0;34m\u001b[0m\u001b[0;34m\u001b[0m\u001b[0m\n",
            "\u001b[0;31mTypeError\u001b[0m: 'tuple' object does not support item assignment"
          ]
        }
      ]
    },
    {
      "cell_type": "markdown",
      "source": [
        "### 6) Write a function to demonstrate the behavior of mutable and immutable arguments."
      ],
      "metadata": {
        "id": "EgGf7K5Z63_S"
      }
    },
    {
      "cell_type": "code",
      "source": [
        "# Mutable\n",
        "my_list = [1, 2, 3, 4, 5, 6]\n",
        "print(\"Before change: \", my_list)\n",
        "my_list[5] = 8\n",
        "print(\"After change: \", my_list)\n",
        "\n",
        "# Immutable\n",
        "x = 20\n",
        "print(\"Before change: \", x)\n",
        "x = x + 1\n",
        "print(\"After change: \", x)"
      ],
      "metadata": {
        "colab": {
          "base_uri": "https://localhost:8080/"
        },
        "id": "df3P2pHI687D",
        "outputId": "29cfb929-6ce4-4e9b-907e-f90616f5a675"
      },
      "execution_count": null,
      "outputs": [
        {
          "output_type": "stream",
          "name": "stdout",
          "text": [
            "Before change:  [1, 2, 3, 4, 5, 6]\n",
            "After change:  [1, 2, 3, 4, 5, 8]\n",
            "Before change:  20\n",
            "After change:  21\n"
          ]
        }
      ]
    },
    {
      "cell_type": "markdown",
      "source": [
        "### 7) Write a program that performs basic arithmetic operations on two user-input numbers"
      ],
      "metadata": {
        "id": "b_4YcpU-FIWc"
      }
    },
    {
      "cell_type": "code",
      "source": [
        "num1=int(input(\"Enter first number: \"))\n",
        "num2=int(input(\"Enter second number: \"))\n",
        "add=num1+num2\n",
        "sub=num2-num1\n",
        "mul=num1*num2\n",
        "div=num2/num1\n",
        "mod=num1%num2\n",
        "print(\"Addition:\",add)\n",
        "print(\"Subtraction:\",sub)\n",
        "print(\"Multiplication:\",mul)\n",
        "print(\"Division:\",div)\n",
        "print(\"Modulus:\",mod)\n"
      ],
      "metadata": {
        "colab": {
          "base_uri": "https://localhost:8080/"
        },
        "id": "5Ke8kFN-FNsD",
        "outputId": "313f9b72-aacf-4c6a-a11c-0929fea8f9df"
      },
      "execution_count": null,
      "outputs": [
        {
          "output_type": "stream",
          "name": "stdout",
          "text": [
            "Enter first number: 20\n",
            "Enter second number: 40\n",
            "Addition: 60\n",
            "Subtraction: 20\n",
            "Multiplication: 800\n",
            "Division: 2.0\n",
            "Modulus: 20\n"
          ]
        }
      ]
    },
    {
      "cell_type": "markdown",
      "source": [
        "### 8)  Write a program to demonstrate the use of logical operators."
      ],
      "metadata": {
        "id": "AEjXbIU1GRTd"
      }
    },
    {
      "cell_type": "code",
      "source": [
        "a=10\n",
        "b=5\n",
        "print(a > 5 and b < 10)\n",
        "print(a < 5 or b < 10)\n"
      ],
      "metadata": {
        "colab": {
          "base_uri": "https://localhost:8080/"
        },
        "id": "89tYKFxAGW4P",
        "outputId": "0baa1497-4c2b-4d7b-b264-517c2b91c6aa"
      },
      "execution_count": null,
      "outputs": [
        {
          "output_type": "stream",
          "name": "stdout",
          "text": [
            "True\n",
            "True\n"
          ]
        }
      ]
    },
    {
      "cell_type": "markdown",
      "source": [
        "### 9) Write a Python program to convert user input from string to integer, float, and boolean types."
      ],
      "metadata": {
        "id": "ohuuzBw7HJmJ"
      }
    },
    {
      "cell_type": "code",
      "source": [
        "c=\"5\"\n",
        "d=int(c)\n",
        "type(d)\n"
      ],
      "metadata": {
        "colab": {
          "base_uri": "https://localhost:8080/"
        },
        "id": "QVtF7kZLHNTv",
        "outputId": "18e9a12c-f11b-4a0d-b198-7ea5815b6ddf"
      },
      "execution_count": null,
      "outputs": [
        {
          "output_type": "execute_result",
          "data": {
            "text/plain": [
              "int"
            ]
          },
          "metadata": {},
          "execution_count": 18
        }
      ]
    },
    {
      "cell_type": "code",
      "source": [
        "x=\"True\"\n",
        "y=bool(x)\n",
        "type(y)"
      ],
      "metadata": {
        "colab": {
          "base_uri": "https://localhost:8080/"
        },
        "id": "M3aVC7lrHmZN",
        "outputId": "27ccdceb-b3a1-4d49-f033-7e27ecd33274"
      },
      "execution_count": 4,
      "outputs": [
        {
          "output_type": "execute_result",
          "data": {
            "text/plain": [
              "bool"
            ]
          },
          "metadata": {},
          "execution_count": 4
        }
      ]
    },
    {
      "cell_type": "code",
      "source": [
        "f=\"2.5\"\n",
        "fl=float(f)\n",
        "type(fl)"
      ],
      "metadata": {
        "colab": {
          "base_uri": "https://localhost:8080/"
        },
        "id": "oGebqz3Ii1es",
        "outputId": "2ff7336d-d66a-406e-9e75-b002fa6fcb4e"
      },
      "execution_count": 6,
      "outputs": [
        {
          "output_type": "execute_result",
          "data": {
            "text/plain": [
              "float"
            ]
          },
          "metadata": {},
          "execution_count": 6
        }
      ]
    },
    {
      "cell_type": "markdown",
      "source": [
        "### 10)  Write code to demonstrate type casting with list elements."
      ],
      "metadata": {
        "id": "yAZjl2-hN3Ks"
      }
    },
    {
      "cell_type": "code",
      "source": [
        "str_list = [\"1\", \"2\", \"3\", \"4\"]\n",
        "int_list = [int(x) for x in str_list]\n",
        "print(int_list)\n",
        "float_list = [float(x) for x in str_list]\n",
        "print(float_list)\n",
        "bool_list = [bool(x) for x in str_list]\n",
        "print(bool_list)\n"
      ],
      "metadata": {
        "colab": {
          "base_uri": "https://localhost:8080/"
        },
        "id": "9dSUclayN6mx",
        "outputId": "682979de-7d64-4fb3-81b1-7e2ae0a958fd"
      },
      "execution_count": 8,
      "outputs": [
        {
          "output_type": "stream",
          "name": "stdout",
          "text": [
            "[1, 2, 3, 4]\n",
            "[1.0, 2.0, 3.0, 4.0]\n",
            "[True, True, True, True]\n"
          ]
        }
      ]
    },
    {
      "cell_type": "markdown",
      "source": [
        "### 11) . Write a program that checks if a number is positive, negative, or zero."
      ],
      "metadata": {
        "id": "480S6QDdP1Lu"
      }
    },
    {
      "cell_type": "code",
      "source": [
        "num = int(input(\"Enter a number: \"))\n",
        "if num > 0:\n",
        "    print(\"Positive number\")\n",
        "elif num < 0:\n",
        "    print(\"Negative number\")\n",
        "else:\n",
        "    print(\"Zero\")"
      ],
      "metadata": {
        "colab": {
          "base_uri": "https://localhost:8080/"
        },
        "id": "zh81jbvbP2sr",
        "outputId": "e4f09e94-61d2-4e34-9f12-21ded291d3d9"
      },
      "execution_count": 10,
      "outputs": [
        {
          "output_type": "stream",
          "name": "stdout",
          "text": [
            "Enter a number: -9\n",
            "Negative number\n"
          ]
        }
      ]
    },
    {
      "cell_type": "markdown",
      "source": [
        "### 12)  Write a for loop to print numbers from 1 to 10"
      ],
      "metadata": {
        "id": "P9Z2Gizejere"
      }
    },
    {
      "cell_type": "code",
      "source": [
        "for i in range(1, 11):\n",
        "    print(i)"
      ],
      "metadata": {
        "colab": {
          "base_uri": "https://localhost:8080/"
        },
        "id": "PICBvEUCjj4E",
        "outputId": "5e9bfbd8-5604-408c-e276-520440d0b6a2"
      },
      "execution_count": 11,
      "outputs": [
        {
          "output_type": "stream",
          "name": "stdout",
          "text": [
            "1\n",
            "2\n",
            "3\n",
            "4\n",
            "5\n",
            "6\n",
            "7\n",
            "8\n",
            "9\n",
            "10\n"
          ]
        }
      ]
    },
    {
      "cell_type": "markdown",
      "source": [
        "### 13)  Write a Python program to find the sum of all even numbers between 1 and 50."
      ],
      "metadata": {
        "id": "PXH7Qu8gjqP9"
      }
    },
    {
      "cell_type": "code",
      "source": [
        "total = 0\n",
        "for i in range(2, 51, 2):\n",
        "    total += i\n",
        "print(\"Sum of even numbers from 1 to 50 is:\", total)"
      ],
      "metadata": {
        "colab": {
          "base_uri": "https://localhost:8080/"
        },
        "id": "abgE96lGjukI",
        "outputId": "a2290c0f-d624-4276-c880-106d86c68298"
      },
      "execution_count": 16,
      "outputs": [
        {
          "output_type": "stream",
          "name": "stdout",
          "text": [
            "Sum of even numbers from 1 to 50 is: 650\n"
          ]
        }
      ]
    },
    {
      "cell_type": "markdown",
      "source": [
        "### 14)  Write a program to reverse a string using a while loop."
      ],
      "metadata": {
        "id": "83MeGmzPkQcq"
      }
    },
    {
      "cell_type": "code",
      "source": [
        "text = input(\"Enter a string: \")\n",
        "rev_text = \"\"\n",
        "i = len(text) - 1\n",
        "while i >= 0:\n",
        "    rev_text = rev_text + text[i]\n",
        "    i = i - 1\n",
        "print(\"Reversed string:\", rev_text)"
      ],
      "metadata": {
        "colab": {
          "base_uri": "https://localhost:8080/"
        },
        "id": "D8zSBDjMkSbR",
        "outputId": "608e8bfa-8e69-4ed3-ad55-da9a4cb2a30b"
      },
      "execution_count": 15,
      "outputs": [
        {
          "output_type": "stream",
          "name": "stdout",
          "text": [
            "Enter a string: Hello\n",
            "Reversed string: olleH\n"
          ]
        }
      ]
    },
    {
      "cell_type": "markdown",
      "source": [
        "### 15)  Write a Python program to calculate the factorial of a number provided by the user using a while loop."
      ],
      "metadata": {
        "id": "6MK331PHkzRg"
      }
    },
    {
      "cell_type": "code",
      "source": [
        "num = int(input(\"Enter a number: \"))\n",
        "fact = 1\n",
        "while num > 0:\n",
        "    fact = fact * num\n",
        "    num = num - 1\n",
        "print(\"Factorial is:\", fact)"
      ],
      "metadata": {
        "colab": {
          "base_uri": "https://localhost:8080/"
        },
        "id": "T327ksEXk32d",
        "outputId": "23ab4baf-f55b-487f-8cbb-b2b904a3bf05"
      },
      "execution_count": 14,
      "outputs": [
        {
          "output_type": "stream",
          "name": "stdout",
          "text": [
            "Enter a number: 5\n",
            "Factorial is: 120\n"
          ]
        }
      ]
    },
    {
      "cell_type": "code",
      "source": [],
      "metadata": {
        "id": "LcFVMG7elIRn"
      },
      "execution_count": null,
      "outputs": []
    }
  ]
}